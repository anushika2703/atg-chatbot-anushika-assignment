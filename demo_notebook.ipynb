{
  "cells": [
    {
      "cell_type": "markdown",
      "metadata": {},
      "source": [
        "# ATG Chatbot Demo\n",
        "This notebook demonstrates the chatbot implementation using TinyLlama.\n",
        "\n",
        "**Repository:** [GitHub Link](https://github.com/anushika2703/atg-chatbot-anushika-assignment)\n",
        "\n",
        "**Demo Video:** [Watch here](https://drive.google.com/file/d/1wbxEBvkdlMaWN78i-c7SZ3Hzf9HtrROl/view?usp=sharing)"
      ]
    },
    {
      "cell_type": "code",
      "metadata": {},
      "source": [
        "!python interface.py"
      ],
      "outputs": []
    }
  ],
  "metadata": {
    "kernelspec": {
      "display_name": "Python 3",
      "language": "python",
      "name": "python3"
    },
    "language_info": {
      "name": "python"
    }
  },
  "nbformat": 4,
  "nbformat_minor": 2
}
